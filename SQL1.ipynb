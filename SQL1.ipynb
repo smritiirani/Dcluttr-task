{
  "nbformat": 4,
  "nbformat_minor": 0,
  "metadata": {
    "colab": {
      "provenance": [],
      "authorship_tag": "ABX9TyOyc7Hvcnutf5h2Mn+LxVCN",
      "include_colab_link": true
    },
    "kernelspec": {
      "name": "python3",
      "display_name": "Python 3"
    },
    "language_info": {
      "name": "python"
    }
  },
  "cells": [
    {
      "cell_type": "markdown",
      "metadata": {
        "id": "view-in-github",
        "colab_type": "text"
      },
      "source": [
        "<a href=\"https://colab.research.google.com/github/smritiirani/Dcluttr-task/blob/main/SQL1.ipynb\" target=\"_parent\"><img src=\"https://colab.research.google.com/assets/colab-badge.svg\" alt=\"Open In Colab\"/></a>"
      ]
    },
    {
      "cell_type": "code",
      "source": [
        "# STEP 1: Import libraries\n",
        "import pandas as pd\n",
        "import sqlite3\n",
        "\n",
        "# STEP 2: Read uploaded CSV files\n",
        "scraping_df = pd.read_csv('all_blinkit_category_scraping_stream.csv')\n",
        "categories_df = pd.read_csv('blinkit_categories.csv')\n",
        "city_map_df = pd.read_csv('blinkit_city_map.csv')\n",
        "\n",
        "# STEP 3: Rename columns if needed\n",
        "scraping_df = scraping_df.rename(columns={\n",
        "    'created_at': 'scraped_at',\n",
        "    'l1_category_id': 'category_id',\n",
        "    'l2_category_id': 'subcategory_id',\n",
        "    'selling_price': 'price'\n",
        "})\n",
        "\n",
        "# STEP 4: Create SQLite DB and store the tables\n",
        "con = sqlite3.connect('blinkit.db')\n",
        "scraping_df.to_sql('all_blinkit_category_scraping_stream', con, if_exists='replace', index=False)\n",
        "categories_df.to_sql('blinkit_categories', con, if_exists='replace', index=False)\n",
        "city_map_df.to_sql('blinkit_city_map', con, if_exists='replace', index=False)\n",
        "\n",
        "# STEP 5: SQL Query to generate the insights table\n",
        "query = \"\"\"\n",
        "WITH movement AS (\n",
        "    SELECT\n",
        "        s.store_id, s.sku_id, s.scraped_at,\n",
        "        s.category_id, s.subcategory_id, s.brand_id,\n",
        "        s.brand, s.image_url, s.sku_name,\n",
        "        s.price, s.mrp, s.inventory,\n",
        "        LAG(s.inventory) OVER (\n",
        "            PARTITION BY s.store_id, s.sku_id ORDER BY s.scraped_at\n",
        "        ) AS prev_inventory\n",
        "    FROM all_blinkit_category_scraping_stream s\n",
        "),\n",
        "estimation AS (\n",
        "    SELECT\n",
        "        store_id, sku_id, scraped_at,\n",
        "        category_id, subcategory_id, brand_id,\n",
        "        brand, image_url, sku_name, price, mrp,\n",
        "        CASE\n",
        "            WHEN prev_inventory IS NOT NULL AND inventory < prev_inventory THEN prev_inventory - inventory\n",
        "            ELSE 0\n",
        "        END AS est_qty_sold,\n",
        "        inventory\n",
        "    FROM movement\n",
        "),\n",
        "joined AS (\n",
        "    SELECT\n",
        "        e.scraped_at as date, e.sku_id, e.store_id,\n",
        "        e.sku_name, e.brand_id, e.brand, e.image_url,\n",
        "        e.price, e.mrp, e.inventory, e.est_qty_sold,\n",
        "        c.l1_category_id AS category_id,\n",
        "        c.l1_category AS category_name,\n",
        "        c.l2_category_id AS sub_category_id,\n",
        "        c.l2_category AS sub_category_name,\n",
        "        m.city_name\n",
        "    FROM estimation e\n",
        "    JOIN blinkit_categories c\n",
        "      ON e.category_id = c.l1_category_id AND e.subcategory_id = c.l2_category_id\n",
        "    JOIN blinkit_city_map m\n",
        "      ON e.store_id = m.store_id\n",
        ")\n",
        "SELECT\n",
        "    date,\n",
        "    sku_id,\n",
        "    city_name AS city,\n",
        "    sku_name,\n",
        "    brand_id,\n",
        "    brand,\n",
        "    image_url,\n",
        "    category_id,\n",
        "    category_name,\n",
        "    sub_category_id,\n",
        "    sub_category_name,\n",
        "    SUM(est_qty_sold) AS est_qty_sold,\n",
        "    ROUND(SUM(est_qty_sold * price), 2) AS est_sales_sp,\n",
        "    ROUND(SUM(est_qty_sold * mrp), 2) AS est_sales_mrp\n",
        "FROM joined\n",
        "GROUP BY date, city, category_name, sub_category_name, sku_id\n",
        "ORDER BY date, city, category_name\n",
        "\"\"\"\n",
        "\n",
        "# STEP 6: Run the query and save results\n",
        "result_df = pd.read_sql_query(query, con)\n",
        "result_df.to_csv(\"blinkit_city_insights.csv\", index=False)\n",
        "\n",
        "# STEP 7: Download the file\n",
        "from google.colab import files\n",
        "files.download(\"blinkit_city_insights.csv\")\n"
      ],
      "metadata": {
        "colab": {
          "base_uri": "https://localhost:8080/",
          "height": 17
        },
        "id": "-emwYFdomwLG",
        "outputId": "c490aef3-2082-472c-9669-a86b97c0a71d"
      },
      "execution_count": 8,
      "outputs": [
        {
          "output_type": "display_data",
          "data": {
            "text/plain": [
              "<IPython.core.display.Javascript object>"
            ],
            "application/javascript": [
              "\n",
              "    async function download(id, filename, size) {\n",
              "      if (!google.colab.kernel.accessAllowed) {\n",
              "        return;\n",
              "      }\n",
              "      const div = document.createElement('div');\n",
              "      const label = document.createElement('label');\n",
              "      label.textContent = `Downloading \"${filename}\": `;\n",
              "      div.appendChild(label);\n",
              "      const progress = document.createElement('progress');\n",
              "      progress.max = size;\n",
              "      div.appendChild(progress);\n",
              "      document.body.appendChild(div);\n",
              "\n",
              "      const buffers = [];\n",
              "      let downloaded = 0;\n",
              "\n",
              "      const channel = await google.colab.kernel.comms.open(id);\n",
              "      // Send a message to notify the kernel that we're ready.\n",
              "      channel.send({})\n",
              "\n",
              "      for await (const message of channel.messages) {\n",
              "        // Send a message to notify the kernel that we're ready.\n",
              "        channel.send({})\n",
              "        if (message.buffers) {\n",
              "          for (const buffer of message.buffers) {\n",
              "            buffers.push(buffer);\n",
              "            downloaded += buffer.byteLength;\n",
              "            progress.value = downloaded;\n",
              "          }\n",
              "        }\n",
              "      }\n",
              "      const blob = new Blob(buffers, {type: 'application/binary'});\n",
              "      const a = document.createElement('a');\n",
              "      a.href = window.URL.createObjectURL(blob);\n",
              "      a.download = filename;\n",
              "      div.appendChild(a);\n",
              "      a.click();\n",
              "      div.remove();\n",
              "    }\n",
              "  "
            ]
          },
          "metadata": {}
        },
        {
          "output_type": "display_data",
          "data": {
            "text/plain": [
              "<IPython.core.display.Javascript object>"
            ],
            "application/javascript": [
              "download(\"download_f6a47306-e44c-4ef4-b553-4ea4101551e5\", \"blinkit_city_insights.csv\", 165433395)"
            ]
          },
          "metadata": {}
        }
      ]
    }
  ]
}